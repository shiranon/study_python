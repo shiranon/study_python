{
 "cells": [
  {
   "cell_type": "code",
   "execution_count": 1,
   "metadata": {},
   "outputs": [
    {
     "name": "stdout",
     "output_type": "stream",
     "text": [
      "{'零': '0', '一': '1', '二': '2', '三': '3', '四': '4', '五': '5', '六': '6', '七': '7', '八': '8', '九': '9'}\n"
     ]
    }
   ],
   "source": [
    "KANSUJI = list(\"零一二三四五六七八九\")\n",
    "KANSUJI_DIC = {}\n",
    "for i, key in enumerate(KANSUJI):\n",
    "    KANSUJI_DIC[key] = str(i)\n",
    "print(KANSUJI_DIC)"
   ]
  },
  {
   "cell_type": "code",
   "execution_count": 2,
   "metadata": {},
   "outputs": [
    {
     "name": "stdout",
     "output_type": "stream",
     "text": [
      "0 → a\n",
      "1 → b\n",
      "2 → c\n"
     ]
    }
   ],
   "source": [
    "# 内包表記\n",
    "# a_dict = [(キーの式):(値の式) for キー in リストなど]\n",
    "\n",
    "# 関数enumerateについて\n",
    "for i, v in enumerate([\"a\", \"b\", \"c\"]):\n",
    "    print(i, \"→\", v)"
   ]
  },
  {
   "cell_type": "code",
   "execution_count": 4,
   "metadata": {},
   "outputs": [
    {
     "data": {
      "text/plain": [
       "'零一二-三四五六#七'"
      ]
     },
     "execution_count": 4,
     "metadata": {},
     "output_type": "execute_result"
    }
   ],
   "source": [
    "import re  # 正規表現\n",
    "\n",
    "src = \"012-3456#7\"\n",
    "# re.sub(\"[0-9]\",...) 文字列の中から数字を探している\n",
    "# lambda m: \"零一二三...\"[int(m.group(0))] マッチした数字から漢数字を取り出す\n",
    "re.sub('[0-9]', lambda m: \"零一二三四五六七八九\"[int(m.group(0))], src)"
   ]
  },
  {
   "cell_type": "code",
   "execution_count": 4,
   "metadata": {},
   "outputs": [
    {
     "name": "stdout",
     "output_type": "stream",
     "text": [
      "暗号化 14147\n",
      "復号化 12345\n"
     ]
    }
   ],
   "source": [
    "x = 12345\n",
    "y = 1914\n",
    "# XOR演算で暗号化\n",
    "z = x ^ y\n",
    "print(\"暗号化\", z)\n",
    "# 暗号鍵Yで復号化\n",
    "print(\"復号化\", z ^ y)"
   ]
  },
  {
   "cell_type": "code",
   "execution_count": null,
   "metadata": {},
   "outputs": [],
   "source": []
  }
 ],
 "metadata": {
  "kernelspec": {
   "display_name": "py312",
   "language": "python",
   "name": "python3"
  },
  "language_info": {
   "codemirror_mode": {
    "name": "ipython",
    "version": 3
   },
   "file_extension": ".py",
   "mimetype": "text/x-python",
   "name": "python",
   "nbconvert_exporter": "python",
   "pygments_lexer": "ipython3",
   "version": "3.12.7"
  }
 },
 "nbformat": 4,
 "nbformat_minor": 2
}
