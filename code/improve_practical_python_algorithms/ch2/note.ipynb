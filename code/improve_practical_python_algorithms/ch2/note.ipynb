{
 "cells": [
  {
   "cell_type": "code",
   "execution_count": 1,
   "metadata": {},
   "outputs": [
    {
     "name": "stdout",
     "output_type": "stream",
     "text": [
      "{'零': '0', '一': '1', '二': '2', '三': '3', '四': '4', '五': '5', '六': '6', '七': '7', '八': '8', '九': '9'}\n"
     ]
    }
   ],
   "source": [
    "KANSUJI = list(\"零一二三四五六七八九\")\n",
    "KANSUJI_DIC = {}\n",
    "for i, key in enumerate(KANSUJI):\n",
    "    KANSUJI_DIC[key] = str(i)\n",
    "print(KANSUJI_DIC)"
   ]
  },
  {
   "cell_type": "code",
   "execution_count": 2,
   "metadata": {},
   "outputs": [
    {
     "name": "stdout",
     "output_type": "stream",
     "text": [
      "0 → a\n",
      "1 → b\n",
      "2 → c\n"
     ]
    }
   ],
   "source": [
    "# 内包表記\n",
    "# a_dict = [(キーの式):(値の式) for キー in リストなど]\n",
    "\n",
    "# 関数enumerateについて\n",
    "for i, v in enumerate([\"a\", \"b\", \"c\"]):\n",
    "    print(i, \"→\", v)"
   ]
  },
  {
   "cell_type": "code",
   "execution_count": 4,
   "metadata": {},
   "outputs": [
    {
     "data": {
      "text/plain": [
       "'零一二-三四五六#七'"
      ]
     },
     "execution_count": 4,
     "metadata": {},
     "output_type": "execute_result"
    }
   ],
   "source": [
    "import re  # 正規表現\n",
    "\n",
    "src = \"012-3456#7\"\n",
    "# re.sub(\"[0-9]\",...) 文字列の中から数字を探している\n",
    "# lambda m: \"零一二三...\"[int(m.group(0))] マッチした数字から漢数字を取り出す\n",
    "re.sub('[0-9]', lambda m: \"零一二三四五六七八九\"[int(m.group(0))], src)"
   ]
  },
  {
   "cell_type": "code",
   "execution_count": 4,
   "metadata": {},
   "outputs": [
    {
     "name": "stdout",
     "output_type": "stream",
     "text": [
      "暗号化 14147\n",
      "復号化 12345\n"
     ]
    }
   ],
   "source": [
    "x = 12345\n",
    "y = 1914\n",
    "# XOR演算で暗号化\n",
    "z = x ^ y\n",
    "print(\"暗号化\", z)\n",
    "# 暗号鍵Yで復号化\n",
    "print(\"復号化\", z ^ y)"
   ]
  },
  {
   "cell_type": "code",
   "execution_count": 11,
   "metadata": {},
   "outputs": [
    {
     "name": "stdout",
     "output_type": "stream",
     "text": [
      "['0xbb', '0xf', '0x43', '0x43', '0x4f', '0xcd']\n"
     ]
    }
   ],
   "source": [
    "xor = [0xE8, 0x4A, 0x00, 0x00, 0x00, 0x83]\n",
    "chars = [\"S\", \"E\", \"C\", \"C\", \"O\", \"N\"]\n",
    "target=[]\n",
    "\n",
    "for i in range(0,len(xor)):\n",
    "     target.append(hex(xor[i] ^ ord(chars[i])))\n",
    "print(target)"
   ]
  },
  {
   "cell_type": "code",
   "execution_count": 13,
   "metadata": {},
   "outputs": [
    {
     "name": "stdout",
     "output_type": "stream",
     "text": [
      "SECCON{UPX_s7ub_1s_a_g0od_pl4c3_f0r_h1din6_c0d3}\n"
     ]
    }
   ],
   "source": [
    "xor = [0xe8,0x4a,0x00,0x00,0x00,0x83,0xf9,0x49,\n",
    "       0x75,0x44,0x53,0x57,0x48,0x8d,0x4c,0x37,\n",
    "       0xfd,0x5e,0x56,0x5b,0xeb,0x2f,0x48,0x39,\n",
    "       0xce,0x73,0x32,0x56,0x5e,0xac,0x3c,0x80,\n",
    "       0x72,0x0a,0x3c,0x8f,0x77,0x06,0x80,0x7e,\n",
    "       0xfe,0x0f,0x74,0x06,0x2c,0xe8,0x3c,0x01]\n",
    "\n",
    "target = [0xbb,0x0f,0x43,0x43,0x4f,0xcd,0x82,0x1c,\n",
    "          0x25,0x1c,0x0c,0x24,0x7f,0xf8,0x2e,0x68,\n",
    "          0xcc,0x2d,0x09,0x3a,0xb4,0x48,0x78,0x56,\n",
    "          0xaa,0x2c,0x42,0x3a,0x6a,0xcf,0x0f,0xdf,\n",
    "          0x14,0x3a,0x4e,0xd0,0x1f,0x37,0xe4,0x17,\n",
    "          0x90,0x39,0x2b,0x65,0x1c,0x8c,0x0f,0x7c]\n",
    "\n",
    "string = \"\"\n",
    "for i in range(0,len(xor)):\n",
    "    string += chr(xor[i] ^ target[i])\n",
    "print(string)"
   ]
  }
 ],
 "metadata": {
  "kernelspec": {
   "display_name": "py312",
   "language": "python",
   "name": "python3"
  },
  "language_info": {
   "codemirror_mode": {
    "name": "ipython",
    "version": 3
   },
   "file_extension": ".py",
   "mimetype": "text/x-python",
   "name": "python",
   "nbconvert_exporter": "python",
   "pygments_lexer": "ipython3",
   "version": "3.9.20"
  }
 },
 "nbformat": 4,
 "nbformat_minor": 2
}
